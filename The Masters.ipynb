{
 "cells": [
  {
   "cell_type": "markdown",
   "id": "5937e949",
   "metadata": {},
   "source": [
    "# The Masters"
   ]
  },
  {
   "cell_type": "code",
   "execution_count": 1,
   "id": "3d2f0e69",
   "metadata": {},
   "outputs": [],
   "source": [
    "import pandas as pd\n",
    "import numpy as np\n",
    "import seaborn as sns\n",
    "import matplotlib.pyplot as plp\n",
    "%matplotlib inline"
   ]
  },
  {
   "cell_type": "markdown",
   "id": "5fa84a14",
   "metadata": {},
   "source": [
    "## Importing Data Sets"
   ]
  },
  {
   "cell_type": "markdown",
   "id": "cc2394d1",
   "metadata": {},
   "source": [
    "I created datasets based on data from the Masters Website."
   ]
  },
  {
   "cell_type": "code",
   "execution_count": 2,
   "id": "674a1a79",
   "metadata": {},
   "outputs": [],
   "source": [
    "winners = pd.read_excel('Masters_Winners.xlsx')"
   ]
  },
  {
   "cell_type": "code",
   "execution_count": 3,
   "id": "5b714750",
   "metadata": {},
   "outputs": [],
   "source": [
    "scores = pd.read_excel('Masters_Scores.xlsx')"
   ]
  },
  {
   "cell_type": "code",
   "execution_count": 4,
   "id": "6e478800",
   "metadata": {},
   "outputs": [],
   "source": [
    "victories = pd.read_excel('Most_Victories.xlsx')"
   ]
  },
  {
   "cell_type": "code",
   "execution_count": 5,
   "id": "0d8c9205",
   "metadata": {},
   "outputs": [],
   "source": [
    "winners.index = pd.RangeIndex(start=1, stop=len(winners)+1)"
   ]
  },
  {
   "cell_type": "markdown",
   "id": "28e3065c",
   "metadata": {},
   "source": [
    "This code I need to apply to all datasets. That is because in Python, the first column is row 0 instead of row 1."
   ]
  },
  {
   "cell_type": "code",
   "execution_count": 6,
   "id": "e51bbae7",
   "metadata": {},
   "outputs": [
    {
     "data": {
      "text/html": [
       "<div>\n",
       "<style scoped>\n",
       "    .dataframe tbody tr th:only-of-type {\n",
       "        vertical-align: middle;\n",
       "    }\n",
       "\n",
       "    .dataframe tbody tr th {\n",
       "        vertical-align: top;\n",
       "    }\n",
       "\n",
       "    .dataframe thead th {\n",
       "        text-align: right;\n",
       "    }\n",
       "</style>\n",
       "<table border=\"1\" class=\"dataframe\">\n",
       "  <thead>\n",
       "    <tr style=\"text-align: right;\">\n",
       "      <th></th>\n",
       "      <th>Year</th>\n",
       "      <th>Name</th>\n",
       "      <th>DOB</th>\n",
       "      <th>Winning Scores</th>\n",
       "      <th>Margin</th>\n",
       "    </tr>\n",
       "  </thead>\n",
       "  <tbody>\n",
       "    <tr>\n",
       "      <th>1</th>\n",
       "      <td>1934</td>\n",
       "      <td>Horton Smith</td>\n",
       "      <td>05/22/1908</td>\n",
       "      <td>284</td>\n",
       "      <td>1.0</td>\n",
       "    </tr>\n",
       "    <tr>\n",
       "      <th>2</th>\n",
       "      <td>1935</td>\n",
       "      <td>Gene Sarazen</td>\n",
       "      <td>02/27/1902</td>\n",
       "      <td>282</td>\n",
       "      <td>NaN</td>\n",
       "    </tr>\n",
       "    <tr>\n",
       "      <th>3</th>\n",
       "      <td>1936</td>\n",
       "      <td>Horton Smith</td>\n",
       "      <td>05/22/1908</td>\n",
       "      <td>285</td>\n",
       "      <td>1.0</td>\n",
       "    </tr>\n",
       "    <tr>\n",
       "      <th>4</th>\n",
       "      <td>1937</td>\n",
       "      <td>Byron Nelson</td>\n",
       "      <td>02/04/1912</td>\n",
       "      <td>283</td>\n",
       "      <td>2.0</td>\n",
       "    </tr>\n",
       "    <tr>\n",
       "      <th>5</th>\n",
       "      <td>1938</td>\n",
       "      <td>Henry Picard</td>\n",
       "      <td>11/28/1906</td>\n",
       "      <td>285</td>\n",
       "      <td>2.0</td>\n",
       "    </tr>\n",
       "    <tr>\n",
       "      <th>...</th>\n",
       "      <td>...</td>\n",
       "      <td>...</td>\n",
       "      <td>...</td>\n",
       "      <td>...</td>\n",
       "      <td>...</td>\n",
       "    </tr>\n",
       "    <tr>\n",
       "      <th>83</th>\n",
       "      <td>2019</td>\n",
       "      <td>Tiger Woods</td>\n",
       "      <td>12/30/1975</td>\n",
       "      <td>275</td>\n",
       "      <td>1.0</td>\n",
       "    </tr>\n",
       "    <tr>\n",
       "      <th>84</th>\n",
       "      <td>2020</td>\n",
       "      <td>Dustin Johnson</td>\n",
       "      <td>6/22/1984</td>\n",
       "      <td>268</td>\n",
       "      <td>5.0</td>\n",
       "    </tr>\n",
       "    <tr>\n",
       "      <th>85</th>\n",
       "      <td>2021</td>\n",
       "      <td>Hideki Matsuyama</td>\n",
       "      <td>2/25/1992</td>\n",
       "      <td>278</td>\n",
       "      <td>1.0</td>\n",
       "    </tr>\n",
       "    <tr>\n",
       "      <th>86</th>\n",
       "      <td>2022</td>\n",
       "      <td>Scottie Scheffler</td>\n",
       "      <td>6/21/1996</td>\n",
       "      <td>278</td>\n",
       "      <td>3.0</td>\n",
       "    </tr>\n",
       "    <tr>\n",
       "      <th>87</th>\n",
       "      <td>2023</td>\n",
       "      <td>Jon Rahm</td>\n",
       "      <td>11/10/1994</td>\n",
       "      <td>276</td>\n",
       "      <td>4.0</td>\n",
       "    </tr>\n",
       "  </tbody>\n",
       "</table>\n",
       "<p>87 rows × 5 columns</p>\n",
       "</div>"
      ],
      "text/plain": [
       "    Year               Name         DOB  Winning Scores  Margin\n",
       "1   1934       Horton Smith  05/22/1908             284     1.0\n",
       "2   1935       Gene Sarazen  02/27/1902             282     NaN\n",
       "3   1936       Horton Smith  05/22/1908             285     1.0\n",
       "4   1937       Byron Nelson  02/04/1912             283     2.0\n",
       "5   1938       Henry Picard  11/28/1906             285     2.0\n",
       "..   ...                ...         ...             ...     ...\n",
       "83  2019        Tiger Woods  12/30/1975             275     1.0\n",
       "84  2020     Dustin Johnson   6/22/1984             268     5.0\n",
       "85  2021   Hideki Matsuyama   2/25/1992             278     1.0\n",
       "86  2022  Scottie Scheffler   6/21/1996             278     3.0\n",
       "87  2023           Jon Rahm  11/10/1994             276     4.0\n",
       "\n",
       "[87 rows x 5 columns]"
      ]
     },
     "execution_count": 6,
     "metadata": {},
     "output_type": "execute_result"
    }
   ],
   "source": [
    "winners"
   ]
  },
  {
   "cell_type": "markdown",
   "id": "ddf86688",
   "metadata": {},
   "source": [
    "Margins that are NAN are that way, because it went into a Playoff. That means that two players were tied, and they would go into a Playoff format, where the golfers would go into a 1 v 1 on extra holes, until one player wins outright."
   ]
  },
  {
   "cell_type": "code",
   "execution_count": 7,
   "id": "db6d2afb",
   "metadata": {},
   "outputs": [],
   "source": [
    "scores.index = pd.RangeIndex(start=1, stop=len(scores)+1)"
   ]
  },
  {
   "cell_type": "code",
   "execution_count": 8,
   "id": "5806f4b0",
   "metadata": {},
   "outputs": [
    {
     "data": {
      "text/html": [
       "<div>\n",
       "<style scoped>\n",
       "    .dataframe tbody tr th:only-of-type {\n",
       "        vertical-align: middle;\n",
       "    }\n",
       "\n",
       "    .dataframe tbody tr th {\n",
       "        vertical-align: top;\n",
       "    }\n",
       "\n",
       "    .dataframe thead th {\n",
       "        text-align: right;\n",
       "    }\n",
       "</style>\n",
       "<table border=\"1\" class=\"dataframe\">\n",
       "  <thead>\n",
       "    <tr style=\"text-align: right;\">\n",
       "      <th></th>\n",
       "      <th>Year</th>\n",
       "      <th>Name</th>\n",
       "      <th>Ranking.1</th>\n",
       "      <th>Shots.1</th>\n",
       "      <th>Score.1</th>\n",
       "      <th>TotalShots.2</th>\n",
       "      <th>Ranking.2</th>\n",
       "      <th>Shots.2</th>\n",
       "      <th>Score.2</th>\n",
       "      <th>TotalShots.3</th>\n",
       "      <th>Ranking.3</th>\n",
       "      <th>Shots.3</th>\n",
       "      <th>Score.3</th>\n",
       "      <th>TotalShots.4</th>\n",
       "      <th>Shots.4</th>\n",
       "      <th>Score.4</th>\n",
       "    </tr>\n",
       "  </thead>\n",
       "  <tbody>\n",
       "    <tr>\n",
       "      <th>1</th>\n",
       "      <td>1934</td>\n",
       "      <td>Horton Smith</td>\n",
       "      <td>1</td>\n",
       "      <td>70</td>\n",
       "      <td>-2</td>\n",
       "      <td>142</td>\n",
       "      <td>1</td>\n",
       "      <td>72</td>\n",
       "      <td>0</td>\n",
       "      <td>212</td>\n",
       "      <td>1</td>\n",
       "      <td>70</td>\n",
       "      <td>-2</td>\n",
       "      <td>284</td>\n",
       "      <td>72</td>\n",
       "      <td>0</td>\n",
       "    </tr>\n",
       "    <tr>\n",
       "      <th>2</th>\n",
       "      <td>1935</td>\n",
       "      <td>Gene Sarazen</td>\n",
       "      <td>2</td>\n",
       "      <td>68</td>\n",
       "      <td>-4</td>\n",
       "      <td>139</td>\n",
       "      <td>2</td>\n",
       "      <td>71</td>\n",
       "      <td>-1</td>\n",
       "      <td>212</td>\n",
       "      <td>4</td>\n",
       "      <td>73</td>\n",
       "      <td>1</td>\n",
       "      <td>282</td>\n",
       "      <td>70</td>\n",
       "      <td>-2</td>\n",
       "    </tr>\n",
       "    <tr>\n",
       "      <th>3</th>\n",
       "      <td>1936</td>\n",
       "      <td>Horton Smith</td>\n",
       "      <td>3</td>\n",
       "      <td>74</td>\n",
       "      <td>2</td>\n",
       "      <td>145</td>\n",
       "      <td>4</td>\n",
       "      <td>71</td>\n",
       "      <td>-1</td>\n",
       "      <td>213</td>\n",
       "      <td>2</td>\n",
       "      <td>68</td>\n",
       "      <td>-4</td>\n",
       "      <td>285</td>\n",
       "      <td>72</td>\n",
       "      <td>0</td>\n",
       "    </tr>\n",
       "    <tr>\n",
       "      <th>4</th>\n",
       "      <td>1937</td>\n",
       "      <td>Byron Nelson</td>\n",
       "      <td>1</td>\n",
       "      <td>66</td>\n",
       "      <td>-6</td>\n",
       "      <td>138</td>\n",
       "      <td>1</td>\n",
       "      <td>72</td>\n",
       "      <td>0</td>\n",
       "      <td>213</td>\n",
       "      <td>3</td>\n",
       "      <td>75</td>\n",
       "      <td>3</td>\n",
       "      <td>283</td>\n",
       "      <td>70</td>\n",
       "      <td>-2</td>\n",
       "    </tr>\n",
       "    <tr>\n",
       "      <th>5</th>\n",
       "      <td>1938</td>\n",
       "      <td>Henry Picard</td>\n",
       "      <td>4</td>\n",
       "      <td>71</td>\n",
       "      <td>-1</td>\n",
       "      <td>143</td>\n",
       "      <td>2</td>\n",
       "      <td>72</td>\n",
       "      <td>0</td>\n",
       "      <td>215</td>\n",
       "      <td>1</td>\n",
       "      <td>72</td>\n",
       "      <td>0</td>\n",
       "      <td>285</td>\n",
       "      <td>70</td>\n",
       "      <td>-2</td>\n",
       "    </tr>\n",
       "    <tr>\n",
       "      <th>...</th>\n",
       "      <td>...</td>\n",
       "      <td>...</td>\n",
       "      <td>...</td>\n",
       "      <td>...</td>\n",
       "      <td>...</td>\n",
       "      <td>...</td>\n",
       "      <td>...</td>\n",
       "      <td>...</td>\n",
       "      <td>...</td>\n",
       "      <td>...</td>\n",
       "      <td>...</td>\n",
       "      <td>...</td>\n",
       "      <td>...</td>\n",
       "      <td>...</td>\n",
       "      <td>...</td>\n",
       "      <td>...</td>\n",
       "    </tr>\n",
       "    <tr>\n",
       "      <th>83</th>\n",
       "      <td>2019</td>\n",
       "      <td>Tiger Woods</td>\n",
       "      <td>11</td>\n",
       "      <td>70</td>\n",
       "      <td>-2</td>\n",
       "      <td>138</td>\n",
       "      <td>6</td>\n",
       "      <td>68</td>\n",
       "      <td>-4</td>\n",
       "      <td>205</td>\n",
       "      <td>2</td>\n",
       "      <td>67</td>\n",
       "      <td>-5</td>\n",
       "      <td>275</td>\n",
       "      <td>70</td>\n",
       "      <td>-2</td>\n",
       "    </tr>\n",
       "    <tr>\n",
       "      <th>84</th>\n",
       "      <td>2020</td>\n",
       "      <td>Dustin Johnson</td>\n",
       "      <td>1</td>\n",
       "      <td>65</td>\n",
       "      <td>-7</td>\n",
       "      <td>135</td>\n",
       "      <td>1</td>\n",
       "      <td>70</td>\n",
       "      <td>-2</td>\n",
       "      <td>200</td>\n",
       "      <td>1</td>\n",
       "      <td>65</td>\n",
       "      <td>-7</td>\n",
       "      <td>268</td>\n",
       "      <td>68</td>\n",
       "      <td>-4</td>\n",
       "    </tr>\n",
       "    <tr>\n",
       "      <th>85</th>\n",
       "      <td>2021</td>\n",
       "      <td>Hideki Matsuyama</td>\n",
       "      <td>2</td>\n",
       "      <td>69</td>\n",
       "      <td>-3</td>\n",
       "      <td>140</td>\n",
       "      <td>6</td>\n",
       "      <td>71</td>\n",
       "      <td>-1</td>\n",
       "      <td>205</td>\n",
       "      <td>1</td>\n",
       "      <td>65</td>\n",
       "      <td>-7</td>\n",
       "      <td>278</td>\n",
       "      <td>73</td>\n",
       "      <td>1</td>\n",
       "    </tr>\n",
       "    <tr>\n",
       "      <th>86</th>\n",
       "      <td>2022</td>\n",
       "      <td>Scottie Scheffler</td>\n",
       "      <td>3</td>\n",
       "      <td>69</td>\n",
       "      <td>-3</td>\n",
       "      <td>136</td>\n",
       "      <td>1</td>\n",
       "      <td>67</td>\n",
       "      <td>-5</td>\n",
       "      <td>207</td>\n",
       "      <td>1</td>\n",
       "      <td>71</td>\n",
       "      <td>-1</td>\n",
       "      <td>278</td>\n",
       "      <td>71</td>\n",
       "      <td>-1</td>\n",
       "    </tr>\n",
       "    <tr>\n",
       "      <th>87</th>\n",
       "      <td>2023</td>\n",
       "      <td>Jon Rahm</td>\n",
       "      <td>1</td>\n",
       "      <td>65</td>\n",
       "      <td>-7</td>\n",
       "      <td>134</td>\n",
       "      <td>1</td>\n",
       "      <td>69</td>\n",
       "      <td>-3</td>\n",
       "      <td>207</td>\n",
       "      <td>2</td>\n",
       "      <td>73</td>\n",
       "      <td>1</td>\n",
       "      <td>276</td>\n",
       "      <td>69</td>\n",
       "      <td>-3</td>\n",
       "    </tr>\n",
       "  </tbody>\n",
       "</table>\n",
       "<p>87 rows × 16 columns</p>\n",
       "</div>"
      ],
      "text/plain": [
       "    Year               Name  Ranking.1  Shots.1  Score.1  TotalShots.2  \\\n",
       "1   1934       Horton Smith          1       70       -2           142   \n",
       "2   1935       Gene Sarazen          2       68       -4           139   \n",
       "3   1936       Horton Smith          3       74        2           145   \n",
       "4   1937       Byron Nelson          1       66       -6           138   \n",
       "5   1938       Henry Picard          4       71       -1           143   \n",
       "..   ...                ...        ...      ...      ...           ...   \n",
       "83  2019        Tiger Woods         11       70       -2           138   \n",
       "84  2020     Dustin Johnson          1       65       -7           135   \n",
       "85  2021   Hideki Matsuyama          2       69       -3           140   \n",
       "86  2022  Scottie Scheffler          3       69       -3           136   \n",
       "87  2023           Jon Rahm          1       65       -7           134   \n",
       "\n",
       "    Ranking.2  Shots.2  Score.2  TotalShots.3  Ranking.3  Shots.3  Score.3  \\\n",
       "1           1       72        0           212          1       70       -2   \n",
       "2           2       71       -1           212          4       73        1   \n",
       "3           4       71       -1           213          2       68       -4   \n",
       "4           1       72        0           213          3       75        3   \n",
       "5           2       72        0           215          1       72        0   \n",
       "..        ...      ...      ...           ...        ...      ...      ...   \n",
       "83          6       68       -4           205          2       67       -5   \n",
       "84          1       70       -2           200          1       65       -7   \n",
       "85          6       71       -1           205          1       65       -7   \n",
       "86          1       67       -5           207          1       71       -1   \n",
       "87          1       69       -3           207          2       73        1   \n",
       "\n",
       "    TotalShots.4  Shots.4  Score.4  \n",
       "1            284       72        0  \n",
       "2            282       70       -2  \n",
       "3            285       72        0  \n",
       "4            283       70       -2  \n",
       "5            285       70       -2  \n",
       "..           ...      ...      ...  \n",
       "83           275       70       -2  \n",
       "84           268       68       -4  \n",
       "85           278       73        1  \n",
       "86           278       71       -1  \n",
       "87           276       69       -3  \n",
       "\n",
       "[87 rows x 16 columns]"
      ]
     },
     "execution_count": 8,
     "metadata": {},
     "output_type": "execute_result"
    }
   ],
   "source": [
    "scores"
   ]
  },
  {
   "cell_type": "markdown",
   "id": "4cc37f58",
   "metadata": {},
   "source": [
    "So I could combine two of the datasets, rather than have a column header titled \"Day 1\" and the respective Shots, Rankings and Scores fall below that, I ended each category with the respective day of the masters. If you don't watch golf, all tournaments take place over the course of 4 days.\n",
    "\n",
    "In this dataset, I created two tabs for days 2, 3 & 4: the TotalShots (which is the combined amount of shots taken throughout the tournament), and Shots (shots taken on that particular day). Day 1 just has the Shots category, given its the first day of the tournament.  "
   ]
  },
  {
   "cell_type": "markdown",
   "id": "3b251fc5",
   "metadata": {},
   "source": [
    "## Victories "
   ]
  },
  {
   "cell_type": "code",
   "execution_count": 9,
   "id": "da9fc3ce",
   "metadata": {},
   "outputs": [],
   "source": [
    "victories.index = pd.RangeIndex(start=1, stop=len(victories)+1)"
   ]
  },
  {
   "cell_type": "code",
   "execution_count": 10,
   "id": "e13d7046",
   "metadata": {
    "scrolled": false
   },
   "outputs": [
    {
     "data": {
      "text/html": [
       "<div>\n",
       "<style scoped>\n",
       "    .dataframe tbody tr th:only-of-type {\n",
       "        vertical-align: middle;\n",
       "    }\n",
       "\n",
       "    .dataframe tbody tr th {\n",
       "        vertical-align: top;\n",
       "    }\n",
       "\n",
       "    .dataframe thead th {\n",
       "        text-align: right;\n",
       "    }\n",
       "</style>\n",
       "<table border=\"1\" class=\"dataframe\">\n",
       "  <thead>\n",
       "    <tr style=\"text-align: right;\">\n",
       "      <th></th>\n",
       "      <th>Golfer Name</th>\n",
       "      <th># of Victories</th>\n",
       "    </tr>\n",
       "  </thead>\n",
       "  <tbody>\n",
       "    <tr>\n",
       "      <th>1</th>\n",
       "      <td>Jack Nicklaus</td>\n",
       "      <td>6</td>\n",
       "    </tr>\n",
       "    <tr>\n",
       "      <th>2</th>\n",
       "      <td>Tiger Woods</td>\n",
       "      <td>5</td>\n",
       "    </tr>\n",
       "    <tr>\n",
       "      <th>3</th>\n",
       "      <td>Arnold Palmer</td>\n",
       "      <td>4</td>\n",
       "    </tr>\n",
       "    <tr>\n",
       "      <th>4</th>\n",
       "      <td>Jimmy Demaret</td>\n",
       "      <td>3</td>\n",
       "    </tr>\n",
       "    <tr>\n",
       "      <th>5</th>\n",
       "      <td>Sam Snead</td>\n",
       "      <td>3</td>\n",
       "    </tr>\n",
       "    <tr>\n",
       "      <th>6</th>\n",
       "      <td>Gary Player</td>\n",
       "      <td>3</td>\n",
       "    </tr>\n",
       "    <tr>\n",
       "      <th>7</th>\n",
       "      <td>Nick Faldo</td>\n",
       "      <td>3</td>\n",
       "    </tr>\n",
       "    <tr>\n",
       "      <th>8</th>\n",
       "      <td>Phil Mickleson</td>\n",
       "      <td>3</td>\n",
       "    </tr>\n",
       "    <tr>\n",
       "      <th>9</th>\n",
       "      <td>Horton Smith</td>\n",
       "      <td>2</td>\n",
       "    </tr>\n",
       "    <tr>\n",
       "      <th>10</th>\n",
       "      <td>Byron Nelson</td>\n",
       "      <td>2</td>\n",
       "    </tr>\n",
       "    <tr>\n",
       "      <th>11</th>\n",
       "      <td>Ben Hogan</td>\n",
       "      <td>2</td>\n",
       "    </tr>\n",
       "    <tr>\n",
       "      <th>12</th>\n",
       "      <td>Tom Watson</td>\n",
       "      <td>2</td>\n",
       "    </tr>\n",
       "    <tr>\n",
       "      <th>13</th>\n",
       "      <td>Seve Ballesteros</td>\n",
       "      <td>2</td>\n",
       "    </tr>\n",
       "    <tr>\n",
       "      <th>14</th>\n",
       "      <td>Bernhard Langer</td>\n",
       "      <td>2</td>\n",
       "    </tr>\n",
       "    <tr>\n",
       "      <th>15</th>\n",
       "      <td>Ben Crenshaw</td>\n",
       "      <td>2</td>\n",
       "    </tr>\n",
       "    <tr>\n",
       "      <th>16</th>\n",
       "      <td>Jose Maria Olazabal</td>\n",
       "      <td>2</td>\n",
       "    </tr>\n",
       "    <tr>\n",
       "      <th>17</th>\n",
       "      <td>Bubba Watson</td>\n",
       "      <td>2</td>\n",
       "    </tr>\n",
       "  </tbody>\n",
       "</table>\n",
       "</div>"
      ],
      "text/plain": [
       "            Golfer Name  # of Victories\n",
       "1         Jack Nicklaus               6\n",
       "2          Tiger Woods                5\n",
       "3        Arnold Palmer                4\n",
       "4         Jimmy Demaret               3\n",
       "5             Sam Snead               3\n",
       "6          Gary Player                3\n",
       "7            Nick Faldo               3\n",
       "8       Phil Mickleson                3\n",
       "9          Horton Smith               2\n",
       "10        Byron Nelson                2\n",
       "11            Ben Hogan               2\n",
       "12           Tom Watson               2\n",
       "13     Seve Ballesteros               2\n",
       "14      Bernhard Langer               2\n",
       "15         Ben Crenshaw               2\n",
       "16  Jose Maria Olazabal               2\n",
       "17         Bubba Watson               2"
      ]
     },
     "execution_count": 10,
     "metadata": {},
     "output_type": "execute_result"
    }
   ],
   "source": [
    "victories"
   ]
  },
  {
   "cell_type": "markdown",
   "id": "2b532cc2",
   "metadata": {},
   "source": [
    "As you can see, only 20% of the Masters Champions repeated in their career. Most notably, Jack Nicklaus has won the most Masters, followed by Tiger Woods and Arnold Palmer. "
   ]
  },
  {
   "cell_type": "code",
   "execution_count": 11,
   "id": "c99530bc",
   "metadata": {},
   "outputs": [
    {
     "data": {
      "text/plain": [
       "<AxesSubplot:xlabel='# of Victories', ylabel='count'>"
      ]
     },
     "execution_count": 11,
     "metadata": {},
     "output_type": "execute_result"
    },
    {
     "data": {
      "image/png": "[encoded data removed]",
      "text/plain": [
       "<Figure size 640x480 with 1 Axes>"
      ]
     },
     "metadata": {},
     "output_type": "display_data"
    }
   ],
   "source": [
    "sns.set_theme(style=\"whitegrid\", palette=\"Set2\")\n",
    "sns.countplot(x='# of Victories',data=victories)"
   ]
  },
  {
   "cell_type": "markdown",
   "id": "2897f948",
   "metadata": {},
   "source": [
    "I wanted to look further into this dataset, and found some shocking results: Dual winners accounted for nearly 50% of the total Masters victories. That means that a little over half of the winners have only won 1 Master Tournament. "
   ]
  },
  {
   "cell_type": "markdown",
   "id": "8ece73b9",
   "metadata": {},
   "source": [
    "## Merging Data Sets"
   ]
  },
  {
   "cell_type": "code",
   "execution_count": 12,
   "id": "4d29c6a6",
   "metadata": {},
   "outputs": [],
   "source": [
    "winners_data = pd.merge(winners,scores, on=['Name', 'Year'])"
   ]
  },
  {
   "cell_type": "markdown",
   "id": "22fceb6b",
   "metadata": {},
   "source": [
    "Because in these data sets, they have two of the same column names, I combined it into one larger dataset, titled \"Winners_Data\"."
   ]
  },
  {
   "cell_type": "code",
   "execution_count": 13,
   "id": "f18a5fba",
   "metadata": {},
   "outputs": [
    {
     "name": "stdout",
     "output_type": "stream",
     "text": [
      "\n"
     ]
    }
   ],
   "source": [
    "winners_data.index = pd.RangeIndex(start=1, stop=len(winners_data)+1)\n",
    "print(\"\")"
   ]
  },
  {
   "cell_type": "code",
   "execution_count": 14,
   "id": "4f3c2f5e",
   "metadata": {
    "scrolled": true
   },
   "outputs": [
    {
     "data": {
      "text/html": [
       "<div>\n",
       "<style scoped>\n",
       "    .dataframe tbody tr th:only-of-type {\n",
       "        vertical-align: middle;\n",
       "    }\n",
       "\n",
       "    .dataframe tbody tr th {\n",
       "        vertical-align: top;\n",
       "    }\n",
       "\n",
       "    .dataframe thead th {\n",
       "        text-align: right;\n",
       "    }\n",
       "</style>\n",
       "<table border=\"1\" class=\"dataframe\">\n",
       "  <thead>\n",
       "    <tr style=\"text-align: right;\">\n",
       "      <th></th>\n",
       "      <th>Year</th>\n",
       "      <th>Name</th>\n",
       "      <th>DOB</th>\n",
       "      <th>Winning Scores</th>\n",
       "      <th>Margin</th>\n",
       "      <th>Ranking.1</th>\n",
       "      <th>Shots.1</th>\n",
       "      <th>Score.1</th>\n",
       "      <th>TotalShots.2</th>\n",
       "      <th>Ranking.2</th>\n",
       "      <th>Shots.2</th>\n",
       "      <th>Score.2</th>\n",
       "      <th>TotalShots.3</th>\n",
       "      <th>Ranking.3</th>\n",
       "      <th>Shots.3</th>\n",
       "      <th>Score.3</th>\n",
       "      <th>TotalShots.4</th>\n",
       "      <th>Shots.4</th>\n",
       "      <th>Score.4</th>\n",
       "    </tr>\n",
       "  </thead>\n",
       "  <tbody>\n",
       "    <tr>\n",
       "      <th>1</th>\n",
       "      <td>1934</td>\n",
       "      <td>Horton Smith</td>\n",
       "      <td>05/22/1908</td>\n",
       "      <td>284</td>\n",
       "      <td>1.0</td>\n",
       "      <td>1</td>\n",
       "      <td>70</td>\n",
       "      <td>-2</td>\n",
       "      <td>142</td>\n",
       "      <td>1</td>\n",
       "      <td>72</td>\n",
       "      <td>0</td>\n",
       "      <td>212</td>\n",
       "      <td>1</td>\n",
       "      <td>70</td>\n",
       "      <td>-2</td>\n",
       "      <td>284</td>\n",
       "      <td>72</td>\n",
       "      <td>0</td>\n",
       "    </tr>\n",
       "    <tr>\n",
       "      <th>2</th>\n",
       "      <td>1935</td>\n",
       "      <td>Gene Sarazen</td>\n",
       "      <td>02/27/1902</td>\n",
       "      <td>282</td>\n",
       "      <td>NaN</td>\n",
       "      <td>2</td>\n",
       "      <td>68</td>\n",
       "      <td>-4</td>\n",
       "      <td>139</td>\n",
       "      <td>2</td>\n",
       "      <td>71</td>\n",
       "      <td>-1</td>\n",
       "      <td>212</td>\n",
       "      <td>4</td>\n",
       "      <td>73</td>\n",
       "      <td>1</td>\n",
       "      <td>282</td>\n",
       "      <td>70</td>\n",
       "      <td>-2</td>\n",
       "    </tr>\n",
       "    <tr>\n",
       "      <th>3</th>\n",
       "      <td>1936</td>\n",
       "      <td>Horton Smith</td>\n",
       "      <td>05/22/1908</td>\n",
       "      <td>285</td>\n",
       "      <td>1.0</td>\n",
       "      <td>3</td>\n",
       "      <td>74</td>\n",
       "      <td>2</td>\n",
       "      <td>145</td>\n",
       "      <td>4</td>\n",
       "      <td>71</td>\n",
       "      <td>-1</td>\n",
       "      <td>213</td>\n",
       "      <td>2</td>\n",
       "      <td>68</td>\n",
       "      <td>-4</td>\n",
       "      <td>285</td>\n",
       "      <td>72</td>\n",
       "      <td>0</td>\n",
       "    </tr>\n",
       "    <tr>\n",
       "      <th>4</th>\n",
       "      <td>1937</td>\n",
       "      <td>Byron Nelson</td>\n",
       "      <td>02/04/1912</td>\n",
       "      <td>283</td>\n",
       "      <td>2.0</td>\n",
       "      <td>1</td>\n",
       "      <td>66</td>\n",
       "      <td>-6</td>\n",
       "      <td>138</td>\n",
       "      <td>1</td>\n",
       "      <td>72</td>\n",
       "      <td>0</td>\n",
       "      <td>213</td>\n",
       "      <td>3</td>\n",
       "      <td>75</td>\n",
       "      <td>3</td>\n",
       "      <td>283</td>\n",
       "      <td>70</td>\n",
       "      <td>-2</td>\n",
       "    </tr>\n",
       "    <tr>\n",
       "      <th>5</th>\n",
       "      <td>1938</td>\n",
       "      <td>Henry Picard</td>\n",
       "      <td>11/28/1906</td>\n",
       "      <td>285</td>\n",
       "      <td>2.0</td>\n",
       "      <td>4</td>\n",
       "      <td>71</td>\n",
       "      <td>-1</td>\n",
       "      <td>143</td>\n",
       "      <td>2</td>\n",
       "      <td>72</td>\n",
       "      <td>0</td>\n",
       "      <td>215</td>\n",
       "      <td>1</td>\n",
       "      <td>72</td>\n",
       "      <td>0</td>\n",
       "      <td>285</td>\n",
       "      <td>70</td>\n",
       "      <td>-2</td>\n",
       "    </tr>\n",
       "    <tr>\n",
       "      <th>...</th>\n",
       "      <td>...</td>\n",
       "      <td>...</td>\n",
       "      <td>...</td>\n",
       "      <td>...</td>\n",
       "      <td>...</td>\n",
       "      <td>...</td>\n",
       "      <td>...</td>\n",
       "      <td>...</td>\n",
       "      <td>...</td>\n",
       "      <td>...</td>\n",
       "      <td>...</td>\n",
       "      <td>...</td>\n",
       "      <td>...</td>\n",
       "      <td>...</td>\n",
       "      <td>...</td>\n",
       "      <td>...</td>\n",
       "      <td>...</td>\n",
       "      <td>...</td>\n",
       "      <td>...</td>\n",
       "    </tr>\n",
       "    <tr>\n",
       "      <th>83</th>\n",
       "      <td>2019</td>\n",
       "      <td>Tiger Woods</td>\n",
       "      <td>12/30/1975</td>\n",
       "      <td>275</td>\n",
       "      <td>1.0</td>\n",
       "      <td>11</td>\n",
       "      <td>70</td>\n",
       "      <td>-2</td>\n",
       "      <td>138</td>\n",
       "      <td>6</td>\n",
       "      <td>68</td>\n",
       "      <td>-4</td>\n",
       "      <td>205</td>\n",
       "      <td>2</td>\n",
       "      <td>67</td>\n",
       "      <td>-5</td>\n",
       "      <td>275</td>\n",
       "      <td>70</td>\n",
       "      <td>-2</td>\n",
       "    </tr>\n",
       "    <tr>\n",
       "      <th>84</th>\n",
       "      <td>2020</td>\n",
       "      <td>Dustin Johnson</td>\n",
       "      <td>6/22/1984</td>\n",
       "      <td>268</td>\n",
       "      <td>5.0</td>\n",
       "      <td>1</td>\n",
       "      <td>65</td>\n",
       "      <td>-7</td>\n",
       "      <td>135</td>\n",
       "      <td>1</td>\n",
       "      <td>70</td>\n",
       "      <td>-2</td>\n",
       "      <td>200</td>\n",
       "      <td>1</td>\n",
       "      <td>65</td>\n",
       "      <td>-7</td>\n",
       "      <td>268</td>\n",
       "      <td>68</td>\n",
       "      <td>-4</td>\n",
       "    </tr>\n",
       "    <tr>\n",
       "      <th>85</th>\n",
       "      <td>2021</td>\n",
       "      <td>Hideki Matsuyama</td>\n",
       "      <td>2/25/1992</td>\n",
       "      <td>278</td>\n",
       "      <td>1.0</td>\n",
       "      <td>2</td>\n",
       "      <td>69</td>\n",
       "      <td>-3</td>\n",
       "      <td>140</td>\n",
       "      <td>6</td>\n",
       "      <td>71</td>\n",
       "      <td>-1</td>\n",
       "      <td>205</td>\n",
       "      <td>1</td>\n",
       "      <td>65</td>\n",
       "      <td>-7</td>\n",
       "      <td>278</td>\n",
       "      <td>73</td>\n",
       "      <td>1</td>\n",
       "    </tr>\n",
       "    <tr>\n",
       "      <th>86</th>\n",
       "      <td>2022</td>\n",
       "      <td>Scottie Scheffler</td>\n",
       "      <td>6/21/1996</td>\n",
       "      <td>278</td>\n",
       "      <td>3.0</td>\n",
       "      <td>3</td>\n",
       "      <td>69</td>\n",
       "      <td>-3</td>\n",
       "      <td>136</td>\n",
       "      <td>1</td>\n",
       "      <td>67</td>\n",
       "      <td>-5</td>\n",
       "      <td>207</td>\n",
       "      <td>1</td>\n",
       "      <td>71</td>\n",
       "      <td>-1</td>\n",
       "      <td>278</td>\n",
       "      <td>71</td>\n",
       "      <td>-1</td>\n",
       "    </tr>\n",
       "    <tr>\n",
       "      <th>87</th>\n",
       "      <td>2023</td>\n",
       "      <td>Jon Rahm</td>\n",
       "      <td>11/10/1994</td>\n",
       "      <td>276</td>\n",
       "      <td>4.0</td>\n",
       "      <td>1</td>\n",
       "      <td>65</td>\n",
       "      <td>-7</td>\n",
       "      <td>134</td>\n",
       "      <td>1</td>\n",
       "      <td>69</td>\n",
       "      <td>-3</td>\n",
       "      <td>207</td>\n",
       "      <td>2</td>\n",
       "      <td>73</td>\n",
       "      <td>1</td>\n",
       "      <td>276</td>\n",
       "      <td>69</td>\n",
       "      <td>-3</td>\n",
       "    </tr>\n",
       "  </tbody>\n",
       "</table>\n",
       "<p>87 rows × 19 columns</p>\n",
       "</div>"
      ],
      "text/plain": [
       "    Year               Name         DOB  Winning Scores  Margin  Ranking.1  \\\n",
       "1   1934       Horton Smith  05/22/1908             284     1.0          1   \n",
       "2   1935       Gene Sarazen  02/27/1902             282     NaN          2   \n",
       "3   1936       Horton Smith  05/22/1908             285     1.0          3   \n",
       "4   1937       Byron Nelson  02/04/1912             283     2.0          1   \n",
       "5   1938       Henry Picard  11/28/1906             285     2.0          4   \n",
       "..   ...                ...         ...             ...     ...        ...   \n",
       "83  2019        Tiger Woods  12/30/1975             275     1.0         11   \n",
       "84  2020     Dustin Johnson   6/22/1984             268     5.0          1   \n",
       "85  2021   Hideki Matsuyama   2/25/1992             278     1.0          2   \n",
       "86  2022  Scottie Scheffler   6/21/1996             278     3.0          3   \n",
       "87  2023           Jon Rahm  11/10/1994             276     4.0          1   \n",
       "\n",
       "    Shots.1  Score.1  TotalShots.2  Ranking.2  Shots.2  Score.2  TotalShots.3  \\\n",
       "1        70       -2           142          1       72        0           212   \n",
       "2        68       -4           139          2       71       -1           212   \n",
       "3        74        2           145          4       71       -1           213   \n",
       "4        66       -6           138          1       72        0           213   \n",
       "5        71       -1           143          2       72        0           215   \n",
       "..      ...      ...           ...        ...      ...      ...           ...   \n",
       "83       70       -2           138          6       68       -4           205   \n",
       "84       65       -7           135          1       70       -2           200   \n",
       "85       69       -3           140          6       71       -1           205   \n",
       "86       69       -3           136          1       67       -5           207   \n",
       "87       65       -7           134          1       69       -3           207   \n",
       "\n",
       "    Ranking.3  Shots.3  Score.3  TotalShots.4  Shots.4  Score.4  \n",
       "1           1       70       -2           284       72        0  \n",
       "2           4       73        1           282       70       -2  \n",
       "3           2       68       -4           285       72        0  \n",
       "4           3       75        3           283       70       -2  \n",
       "5           1       72        0           285       70       -2  \n",
       "..        ...      ...      ...           ...      ...      ...  \n",
       "83          2       67       -5           275       70       -2  \n",
       "84          1       65       -7           268       68       -4  \n",
       "85          1       65       -7           278       73        1  \n",
       "86          1       71       -1           278       71       -1  \n",
       "87          2       73        1           276       69       -3  \n",
       "\n",
       "[87 rows x 19 columns]"
      ]
     },
     "execution_count": 14,
     "metadata": {},
     "output_type": "execute_result"
    }
   ],
   "source": [
    "winners_data"
   ]
  },
  {
   "cell_type": "markdown",
   "id": "f92cf273",
   "metadata": {},
   "source": [
    "For context, Shots is the amount of shots a golfer took over 18 holes. \n",
    "\n",
    "In golf, a score represents the total number of strokes taken to complete a round of golf, typically consisting of 18 holes. The goal is to complete each hole in as few strokes as possible, with the overall objective of achieving the lowest score possible.\n",
    "\n",
    "In most cases, each hole on a golf course is assigned a specific \"par\" value, which represents the number of strokes a skilled golfer should take to complete the hole. For example, a par 4 hole would typically require the golfer to hit the ball four times before reaching the green and putting the ball into the hole."
   ]
  },
  {
   "cell_type": "markdown",
   "id": "054939a3",
   "metadata": {},
   "source": [
    "## Analyzing Data"
   ]
  },
  {
   "cell_type": "markdown",
   "id": "923cc953",
   "metadata": {},
   "source": [
    "### Average Winning Scores"
   ]
  },
  {
   "cell_type": "code",
   "execution_count": 15,
   "id": "99b31662",
   "metadata": {},
   "outputs": [
    {
     "name": "stdout",
     "output_type": "stream",
     "text": [
      "\n"
     ]
    }
   ],
   "source": [
    "winning_scores = winners_data[\"Winning Scores\"].mean()\n",
    "\n",
    "print(\"\")"
   ]
  },
  {
   "cell_type": "code",
   "execution_count": 16,
   "id": "42f4142c",
   "metadata": {},
   "outputs": [
    {
     "data": {
      "text/plain": [
       "279.32183908045977"
      ]
     },
     "execution_count": 16,
     "metadata": {},
     "output_type": "execute_result"
    }
   ],
   "source": [
    "winning_scores"
   ]
  },
  {
   "cell_type": "markdown",
   "id": "f1097976",
   "metadata": {},
   "source": [
    "As you can see, the average winning score is 279.36 strokes. Given the average daily score is 72, and the tournament is 4 days, the average winning score would be -9 (or 9 under par)."
   ]
  },
  {
   "cell_type": "markdown",
   "id": "ae236811",
   "metadata": {},
   "source": [
    "### Winning Margin"
   ]
  },
  {
   "cell_type": "code",
   "execution_count": 17,
   "id": "5f8b9825",
   "metadata": {},
   "outputs": [],
   "source": [
    "winning_margin = winners_data[\"Margin\"].mean()"
   ]
  },
  {
   "cell_type": "code",
   "execution_count": 18,
   "id": "06cdd403",
   "metadata": {},
   "outputs": [
    {
     "data": {
      "text/plain": [
       "2.6285714285714286"
      ]
     },
     "execution_count": 18,
     "metadata": {},
     "output_type": "execute_result"
    }
   ],
   "source": [
    "winning_margin"
   ]
  },
  {
   "cell_type": "markdown",
   "id": "e5c6352c",
   "metadata": {},
   "source": [
    "The average winning margin for Masters Winners is roughly 3 strokes."
   ]
  },
  {
   "cell_type": "markdown",
   "id": "bde00e7c",
   "metadata": {},
   "source": [
    "### Lowest Overall Score"
   ]
  },
  {
   "cell_type": "code",
   "execution_count": 19,
   "id": "82ae484c",
   "metadata": {},
   "outputs": [
    {
     "name": "stdout",
     "output_type": "stream",
     "text": [
      "The player with the least amount of strokes for any round in any year is: Dustin Johnson with a total score of 268.\n"
     ]
    }
   ],
   "source": [
    "# calculate the total score for each player across all 4 days\n",
    "winners_data['total_score'] = (\n",
    "    winners_data['Shots.1'] + \n",
    "    winners_data['Shots.2'] + \n",
    "    winners_data['Shots.3'] + \n",
    "    winners_data['Shots.4']\n",
    ")\n",
    "\n",
    "# group the data by player and find the minimum score\n",
    "best_player = winners_data.groupby('Name')['total_score'].min()\n",
    "\n",
    "# get the name and score of the best player\n",
    "best_player_name = best_player.idxmin()\n",
    "best_player_score = best_player.min()\n",
    "\n",
    "# print the name and score of the player with the best score\n",
    "print(\"The player with the least amount of strokes for any round in any year is: {} with a total score of {}.\".format(best_player_name, best_player_score))"
   ]
  },
  {
   "cell_type": "markdown",
   "id": "1eb3eaa7",
   "metadata": {},
   "source": [
    "Dustin Johnson, in the Masters during the 2020 Pandemic, had the lowest score of all time. That gave him a remarkable score of -20."
   ]
  },
  {
   "cell_type": "markdown",
   "id": "6f7ff2c3",
   "metadata": {},
   "source": [
    "### Lowest Score in a Round"
   ]
  },
  {
   "cell_type": "code",
   "execution_count": 20,
   "id": "8b47d3e1",
   "metadata": {},
   "outputs": [
    {
     "name": "stdout",
     "output_type": "stream",
     "text": [
      "The lowest shot count in a single round across all winners is: 64\n",
      "The winner/s who achieved this shot count is/are:\n",
      "Jack Nicklaus - 1965 , Round 3 : 64\n",
      "Gary Player - 1978 , Round 4 : 64\n",
      "Jordan Spieth - 2015 , Round 1 : 64\n"
     ]
    }
   ],
   "source": [
    "# Find the lowest shot count in a single round for each winner\n",
    "winners_data['lowest_shot_count'] = winners_data[['Shots.1', 'Shots.2', 'Shots.3', 'Shots.4']].min(axis=1)\n",
    "\n",
    "# Find the winner/s with the lowest shot count in a single round\n",
    "winners_lowest_shot_count = winners_data[winners_data['lowest_shot_count'] == winners_data['lowest_shot_count'].min()]\n",
    "\n",
    "# Print the result\n",
    "print(\"The lowest shot count in a single round across all winners is:\", winners_lowest_shot_count['lowest_shot_count'].values[0])\n",
    "print(\"The winner/s who achieved this shot count is/are:\")\n",
    "for index, winner in winners_lowest_shot_count.iterrows():\n",
    "    round_label = winner[['Shots.1', 'Shots.2', 'Shots.3', 'Shots.4']].astype(int).idxmin().replace(\"Shots\", \"Round\").replace(\".\", \" \")\n",
    "    print(winner['Name'], \"-\", winner['Year'],\",\", round_label,\":\", winner['lowest_shot_count'])"
   ]
  },
  {
   "cell_type": "markdown",
   "id": "7ab03bb3",
   "metadata": {},
   "source": [
    "As you can see, 3 golfers have had 64 strokes in a round (or -8). Those are Jack Nicklaus in 1965, Gary Player in 1978, and Jordan Spieth in 2015. "
   ]
  },
  {
   "cell_type": "markdown",
   "id": "d516f194",
   "metadata": {},
   "source": [
    "### Largest Winning Margin"
   ]
  },
  {
   "cell_type": "code",
   "execution_count": 21,
   "id": "fa400f4c",
   "metadata": {},
   "outputs": [
    {
     "data": {
      "text/plain": [
       "<AxesSubplot:xlabel='Margin', ylabel='count'>"
      ]
     },
     "execution_count": 21,
     "metadata": {},
     "output_type": "execute_result"
    },
    {
     "data": {
      "image/png": "[encoded data removed]",
      "text/plain": [
       "<Figure size 640x480 with 1 Axes>"
      ]
     },
     "metadata": {},
     "output_type": "display_data"
    }
   ],
   "source": [
    "sns.set_theme(style=\"whitegrid\", palette=\"Set3\")\n",
    "sns.countplot(x='Margin',data=winners_data)"
   ]
  },
  {
   "cell_type": "markdown",
   "id": "5d33e2c5",
   "metadata": {},
   "source": [
    "It isn't surprising that most of the Masters Winners have won with a 1-2 stroke margin, but I didn't realize how little of them won with more than a 4 stroke margin."
   ]
  },
  {
   "cell_type": "code",
   "execution_count": 22,
   "id": "be674649",
   "metadata": {},
   "outputs": [
    {
     "name": "stdout",
     "output_type": "stream",
     "text": [
      "The Golfer with the largest Winning Margin is Tiger Woods with a margin of 12.0 strokes in 1997.\n"
     ]
    }
   ],
   "source": [
    "# Largest winning margin\n",
    "winners_data['winning_margin'] = winners_data['Margin'].max()\n",
    "\n",
    "#Print the result\n",
    "largest_margin = winners_data['winning_margin'].values[0]\n",
    "golfer_name = winners_data['Name'][winners_data['Margin'].idxmax()]\n",
    "year = winners_data['Year'][winners_data['Margin'].idxmax()]\n",
    "\n",
    "print(\"The Golfer with the largest Winning Margin is {} with a margin of {} strokes in {}.\".format(golfer_name, largest_margin, year))"
   ]
  },
  {
   "cell_type": "markdown",
   "id": "c279637e",
   "metadata": {},
   "source": [
    "While I knew that Tiger Woods is among the most dominant Golfers of all time, I am shocked at how much better Tiger was in that respective Masters Tournament."
   ]
  },
  {
   "cell_type": "markdown",
   "id": "553c46b2",
   "metadata": {},
   "source": [
    "### Biggest Comeback"
   ]
  },
  {
   "cell_type": "code",
   "execution_count": 23,
   "id": "0b0ed9f3",
   "metadata": {},
   "outputs": [
    {
     "name": "stdout",
     "output_type": "stream",
     "text": [
      "Tiger Woods made the biggest comeback among Masters winners with a ranking of 33 on Day 1 in 2005.\n"
     ]
    }
   ],
   "source": [
    "# Replace non-numeric values with NaN\n",
    "rankings = winners_data[['Ranking.1', 'Ranking.2', 'Ranking.3']].apply(pd.to_numeric, errors='coerce')\n",
    "\n",
    "# Find the worst ranking\n",
    "worst_ranking = rankings.max().max()\n",
    "\n",
    "# Determine the name of the golfer with the lowest ranking\n",
    "golfer_name = winners_data.loc[rankings.stack().idxmax()[0], 'Name']\n",
    "\n",
    "# Compute the year of the tournament in which the worst ranking occurred\n",
    "year = winners_data.loc[rankings.stack().idxmax()[0], 'Year']\n",
    "\n",
    "# Determine the date and ranking of the tournament in which the worst ranking occurred\n",
    "worst_ranking_date = rankings.stack().idxmax()\n",
    "day = worst_ranking_date[1].replace('Ranking.', '')  # Extract day from column name\n",
    "ranking = int(rankings.loc[worst_ranking_date])  # Get the ranking value\n",
    "\n",
    "# Print the final result\n",
    "print(\"{} made the biggest comeback among Masters winners with a ranking of {} on Day {} in {}.\".format(golfer_name, int(worst_ranking), day, int(year)))"
   ]
  },
  {
   "cell_type": "markdown",
   "id": "7d69c247",
   "metadata": {},
   "source": [
    "I was surprised to find that Tiger Woods not only won by the biggest margin, but also had the lowest ranking, and ended up winning the Masters. "
   ]
  }
 ],
 "metadata": {
  "kernelspec": {
   "display_name": "Python 3 (ipykernel)",
   "language": "python",
   "name": "python3"
  },
  "language_info": {
   "codemirror_mode": {
    "name": "ipython",
    "version": 3
   },
   "file_extension": ".py",
   "mimetype": "text/x-python",
   "name": "python",
   "nbconvert_exporter": "python",
   "pygments_lexer": "ipython3",
   "version": "3.9.13"
  }
 },
 "nbformat": 4,
 "nbformat_minor": 5
}
